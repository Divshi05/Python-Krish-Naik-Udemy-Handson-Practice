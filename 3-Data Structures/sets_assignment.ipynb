{
 "cells": [
  {
   "cell_type": "markdown",
   "metadata": {},
   "source": [
    "# Module 3: Data Structures Assignments\n",
    "## Lesson 3.3: Sets\n",
    "### Assignment 1: Creating and Accessing Sets\n",
    "\n",
    "Create a set with the first 10 positive integers. Print the set.\n",
    "\n",
    "### Assignment 2: Adding and Removing Elements\n",
    "\n",
    "Add the number 11 to the set created in Assignment 1. Then remove the number 1 from the set. Print the modified set.\n",
    "\n",
    "### Assignment 3: Set Operations\n",
    "\n",
    "Create two sets: one with the first 5 positive integers and another with the first 5 even integers. Perform and print the results of union, intersection, difference, and symmetric difference operations on these sets.\n",
    "\n",
    "### Assignment 4: Set Comprehensions\n",
    "\n",
    "Create a new set containing the squares of the first 10 positive integers using a set comprehension. Print the new set.\n",
    "\n",
    "### Assignment 5: Filtering Sets\n",
    "\n",
    "Create a new set containing only the even numbers from the set created in Assignment 1 using a set comprehension. Print the new set.\n",
    "\n",
    "### Assignment 6: Set Methods\n",
    "\n",
    "Create a set with duplicate elements and remove the duplicates using set methods. Print the modified set.\n",
    "\n",
    "### Assignment 7: Subsets and Supersets\n",
    "\n",
    "Create two sets: one with the first 5 positive integers and another with the first 3 positive integers. Check if the second set is a subset of the first set and if the first set is a superset of the second set. Print the results.\n",
    "\n",
    "### Assignment 8: Frozenset\n",
    "\n",
    "Create a frozenset with the first 5 positive integers. Print the frozenset.\n",
    "\n",
    "### Assignment 9: Set and List Conversion\n",
    "\n",
    "Create a set with the first 5 positive integers. Convert it to a list, append the number 6, and convert it back to a set. Print the resulting set.\n",
    "\n",
    "### Assignment 10: Set and Dictionary\n",
    "\n",
    "Create a dictionary with set keys and integer values. Print the dictionary.\n",
    "\n",
    "### Assignment 11: Iterating Over Sets\n",
    "\n",
    "Create a set and iterate over the elements, printing each element.\n",
    "\n",
    "### Assignment 12: Removing Elements from Sets\n",
    "\n",
    "Create a set and remove elements from it until it is empty. Print the set after each removal.\n",
    "\n",
    "### Assignment 13: Set Symmetric Difference Update\n",
    "\n",
    "Create two sets and update the first set with the symmetric difference of the two sets. Print the modified first set.\n",
    "\n",
    "### Assignment 14: Set Membership Testing\n",
    "\n",
    "Create a set and test if certain elements are present in the set. Print the results.\n",
    "\n",
    "### Assignment 15: Set of Tuples\n",
    "\n",
    "Create a set containing tuples, where each tuple contains two elements. Print the set."
   ]
  },
  {
   "cell_type": "code",
   "execution_count": 1,
   "metadata": {},
   "outputs": [
    {
     "name": "stdout",
     "output_type": "stream",
     "text": [
      "{1, 2, 3, 4, 5, 6, 7, 8, 9, 10}\n",
      "<class 'set'>\n"
     ]
    }
   ],
   "source": [
    "## assignment-1\n",
    "sets= {1,2,3,4,5,6,7,8,9,10}\n",
    "print(sets)\n",
    "print(type(sets))"
   ]
  },
  {
   "cell_type": "code",
   "execution_count": 2,
   "id": "60d160b2",
   "metadata": {},
   "outputs": [
    {
     "name": "stdout",
     "output_type": "stream",
     "text": [
      "{2, 3, 4, 5, 6, 7, 8, 9, 10, 11}\n"
     ]
    }
   ],
   "source": [
    "## assignment-2\n",
    "sets.add(11)\n",
    "sets.remove(1)\n",
    "print(sets)"
   ]
  },
  {
   "cell_type": "code",
   "execution_count": 3,
   "id": "60d160b2",
   "metadata": {},
   "outputs": [
    {
     "name": "stdout",
     "output_type": "stream",
     "text": [
      "{1, 2, 3, 4, 5, 6, 8, 10}\n",
      "{2, 4}\n",
      "{1, 3, 5}\n",
      "{1, 3, 5, 6, 8, 10}\n"
     ]
    }
   ],
   "source": [
    "## assignment-3\n",
    "set1= {1,2,3,4,5}\n",
    "set2= {2,4,6,8,10}\n",
    "print(set1.union(set2))\n",
    "print(set1.intersection(set2))\n",
    "print(set1.difference(set2))\n",
    "print(set1.symmetric_difference(set2))"
   ]
  },
  {
   "cell_type": "code",
   "execution_count": 4,
   "id": "60d160b2",
   "metadata": {},
   "outputs": [
    {
     "name": "stdout",
     "output_type": "stream",
     "text": [
      "{64, 1, 4, 36, 100, 9, 16, 49, 81, 25}\n"
     ]
    }
   ],
   "source": [
    "## assignment-4\n",
    "squared_set={i**2 for i in range(1,11) }\n",
    "print(squared_set)"
   ]
  },
  {
   "cell_type": "code",
   "execution_count": 5,
   "id": "60d160b2",
   "metadata": {},
   "outputs": [
    {
     "name": "stdout",
     "output_type": "stream",
     "text": [
      "{2, 4, 6, 8, 10}\n"
     ]
    }
   ],
   "source": [
    "## assignment-5\n",
    "sets= {1,2,3,4,5,6,7,8,9,10}\n",
    "new_even_set = {item for item in sets if item %2==0}\n",
    "print(new_even_set)"
   ]
  },
  {
   "cell_type": "code",
   "execution_count": 6,
   "id": "60d160b2",
   "metadata": {},
   "outputs": [
    {
     "name": "stdout",
     "output_type": "stream",
     "text": [
      "{1, 2, 3, 4, 5, 6, 7, 8, 9}\n"
     ]
    }
   ],
   "source": [
    "## assignment-6\n",
    "s = {1,2,3,1,2,4,4,5,6,7,8,9}\n",
    "unique_s= set(s)\n",
    "print(unique_s)\n"
   ]
  },
  {
   "cell_type": "code",
   "execution_count": 7,
   "id": "60d160b2",
   "metadata": {},
   "outputs": [
    {
     "name": "stdout",
     "output_type": "stream",
     "text": [
      "True\n",
      "True\n"
     ]
    }
   ],
   "source": [
    "## assignment-7\n",
    "set1={1,2,3,4,5}\n",
    "set2={1,2,3}\n",
    "print(set2.issubset(set1))\n",
    "print(set1.issuperset(set2))"
   ]
  },
  {
   "cell_type": "code",
   "execution_count": 9,
   "id": "60d160b2",
   "metadata": {},
   "outputs": [
    {
     "name": "stdout",
     "output_type": "stream",
     "text": [
      "frozenset({1, 2, 3, 4, 5})\n"
     ]
    }
   ],
   "source": [
    "## assignment-8\n",
    "fs = frozenset(range(1,6))\n",
    "print(fs)"
   ]
  },
  {
   "cell_type": "code",
   "execution_count": 5,
   "id": "60d160b2",
   "metadata": {},
   "outputs": [
    {
     "name": "stdout",
     "output_type": "stream",
     "text": [
      "{1, 2, 3, 4, 5, 6}\n"
     ]
    }
   ],
   "source": [
    "## assignment-9\n",
    "set1 ={1,2,3,4,5}\n",
    "lst = list(set1)\n",
    "lst.append(6)\n",
    "print(set(lst))\n",
    "\n"
   ]
  },
  {
   "cell_type": "code",
   "execution_count": 15,
   "id": "60d160b2",
   "metadata": {},
   "outputs": [
    {
     "name": "stdout",
     "output_type": "stream",
     "text": [
      "{frozenset({1, 2}): 3, frozenset({4, 5}): 6, frozenset({8, 7}): 9}\n",
      "<class 'frozenset'>\n",
      "<class 'frozenset'>\n",
      "<class 'frozenset'>\n"
     ]
    }
   ],
   "source": [
    "## assignment-10\n",
    "dict={\n",
    "    frozenset({1,2}):3,\n",
    "    frozenset({4,5}):6,\n",
    "    frozenset({7,8}):9\n",
    "}\n",
    "print(dict)\n",
    "for i in dict.keys():\n",
    "    print(type(i))"
   ]
  },
  {
   "cell_type": "code",
   "execution_count": 17,
   "id": "60d160b2",
   "metadata": {},
   "outputs": [
    {
     "name": "stdout",
     "output_type": "stream",
     "text": [
      "1\n",
      "2\n",
      "3\n",
      "4\n",
      "5\n"
     ]
    }
   ],
   "source": [
    "## assignment-11\n",
    "set1\n",
    "for i in set1:\n",
    "    print(i)"
   ]
  },
  {
   "cell_type": "code",
   "execution_count": 9,
   "id": "60d160b2",
   "metadata": {},
   "outputs": [
    {
     "name": "stdout",
     "output_type": "stream",
     "text": [
      "1\n",
      "2\n",
      "3\n",
      "4\n",
      "5\n",
      "set()\n"
     ]
    }
   ],
   "source": [
    "## assignment-12\n",
    "set1 = {1, 2, 3, 4, 5}\n",
    "while set1:  # Continue until the set is empty\n",
    "    removed_element = set1.pop()  # Remove an arbitrary element\n",
    "    print(removed_element)  # Print the removed element\n",
    "\n",
    "print(set1)\n",
    "\n"
   ]
  },
  {
   "cell_type": "code",
   "execution_count": 10,
   "id": "60d160b2",
   "metadata": {},
   "outputs": [
    {
     "name": "stdout",
     "output_type": "stream",
     "text": [
      "{1, 2, 6, 7}\n"
     ]
    }
   ],
   "source": [
    "## assignment-13\n",
    "set1 = {1,2,3,4,5}\n",
    "set2 = {3,4,5,6,7}\n",
    "set1 = set1.symmetric_difference(set2)\n",
    "print(set1)"
   ]
  },
  {
   "cell_type": "code",
   "execution_count": 14,
   "id": "60d160b2",
   "metadata": {},
   "outputs": [
    {
     "name": "stdout",
     "output_type": "stream",
     "text": [
      "2\n",
      "4\n"
     ]
    }
   ],
   "source": [
    "## assignment-14\n",
    "set1 = {1,2,3,4,5}\n",
    "for i in set1:\n",
    "    if (i%2==0) in set1:\n",
    "        print(i)"
   ]
  },
  {
   "cell_type": "code",
   "execution_count": 15,
   "id": "60d160b2",
   "metadata": {},
   "outputs": [
    {
     "name": "stdout",
     "output_type": "stream",
     "text": [
      "{(1, 2), (3, 4), (5, 6)}\n"
     ]
    }
   ],
   "source": [
    "## assignment-15\n",
    "set1 = {(1,2),(3,4),(5,6)}\n",
    "print(set1)"
   ]
  }
 ],
 "metadata": {
  "kernelspec": {
   "display_name": "Python 3.12.0 64-bit ('venv')",
   "language": "python",
   "name": "python3"
  },
  "language_info": {
   "codemirror_mode": {
    "name": "ipython",
    "version": 3
   },
   "file_extension": ".py",
   "mimetype": "text/x-python",
   "name": "python",
   "nbconvert_exporter": "python",
   "pygments_lexer": "ipython3",
   "version": "3.12.0"
  },
  "vscode": {
   "interpreter": {
    "hash": "e9ef6f2fe8b6d46b027c67aea2efd391beee35eda31a4f327b2dd7a122cffd51"
   }
  }
 },
 "nbformat": 4,
 "nbformat_minor": 5
}
