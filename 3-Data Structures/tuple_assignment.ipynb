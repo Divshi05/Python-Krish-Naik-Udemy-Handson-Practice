{
 "cells": [
  {
   "cell_type": "markdown",
   "id": "6cade624",
   "metadata": {},
   "source": [
    "# Module 3: Data Structures Assignments\n",
    "## Lesson 3.2: Tuples\n",
    "### Assignment 1: Creating and Accessing Tuples\n",
    "\n",
    "Create a tuple with the first 10 positive integers. Print the tuple.\n",
    "\n",
    "### Assignment 2: Accessing Tuple Elements\n",
    "\n",
    "Print the first, middle, and last elements of the tuple created in Assignment 1.\n",
    "\n",
    "### Assignment 3: Tuple Slicing\n",
    "\n",
    "Print the first three elements, the last three elements, and the elements from index 2 to 5 of the tuple created in Assignment 1.\n",
    "\n",
    "### Assignment 4: Nested Tuples\n",
    "\n",
    "Create a nested tuple representing a 3x3 matrix and print the matrix. Access and print the element at the second row and third column.\n",
    "\n",
    "### Assignment 5: Tuple Concatenation\n",
    "\n",
    "Concatenate two tuples: (1, 2, 3) and (4, 5, 6). Print the resulting tuple.\n",
    "\n",
    "### Assignment 6: Tuple Methods\n",
    "\n",
    "Create a tuple with duplicate elements and count the occurrences of an element. Find the index of the first occurrence of an element in the tuple.\n",
    "\n",
    "### Assignment 7: Unpacking Tuples\n",
    "\n",
    "Create a tuple with 5 elements and unpack it into 5 variables. Print the variables.\n",
    "\n",
    "### Assignment 8: Tuple Conversion\n",
    "\n",
    "Convert a list of the first 5 positive integers to a tuple. Print the tuple.\n",
    "\n",
    "### Assignment 9: Tuple of Tuples\n",
    "\n",
    "Create a tuple containing 3 tuples, each with 3 elements. Print the tuple of tuples.\n",
    "\n",
    "### Assignment 10: Tuple and List\n",
    "\n",
    "Create a tuple with the first 5 positive integers. Convert it to a list, append the number 6, and convert it back to a tuple. Print the resulting tuple.\n",
    "\n",
    "### Assignment 11: Tuple and String\n",
    "\n",
    "Create a tuple with the characters of a string. Join the tuple elements into a single string. Print the string.\n",
    "\n",
    "### Assignment 12: Tuple and Dictionary\n",
    "\n",
    "Create a dictionary with tuple keys and integer values. Print the dictionary.\n",
    "\n",
    "### Assignment 13: Nested Tuple Iteration\n",
    "\n",
    "Create a nested tuple and iterate over the elements, printing each element.\n",
    "\n",
    "### Assignment 14: Tuple and Set\n",
    "\n",
    "Create a tuple with duplicate elements. Convert it to a set to remove duplicates and print the resulting set.\n",
    "\n",
    "### Assignment 15: Tuple Functions\n",
    "\n",
    "Write functions that take a tuple and return the minimum, maximum, and sum of the elements. Print the results for a sample tuple."
   ]
  },
  {
   "cell_type": "code",
   "execution_count": 2,
   "metadata": {},
   "outputs": [
    {
     "name": "stdout",
     "output_type": "stream",
     "text": [
      "(1, 2, 3, 4, 5, 6, 7, 8, 9, 10)\n"
     ]
    }
   ],
   "source": [
    "## assignment-1\n",
    "tupp=tuple(range(1,11))\n",
    "print(tupp)"
   ]
  },
  {
   "cell_type": "code",
   "execution_count": 4,
   "id": "355f80b1",
   "metadata": {},
   "outputs": [
    {
     "name": "stdout",
     "output_type": "stream",
     "text": [
      "1\n",
      "10\n",
      "6\n"
     ]
    }
   ],
   "source": [
    "## assignment-2\n",
    "print(tupp[0])\n",
    "print(tupp[-1])\n",
    "mid = int(len(tupp)/2)\n",
    "print(tupp[mid])"
   ]
  },
  {
   "cell_type": "code",
   "execution_count": 5,
   "id": "355f80b1",
   "metadata": {},
   "outputs": [
    {
     "name": "stdout",
     "output_type": "stream",
     "text": [
      "(1, 2, 3)\n",
      "(10, 9, 8)\n",
      "(3, 4, 5, 6)\n"
     ]
    }
   ],
   "source": [
    "## assignment-3\n",
    "print(tupp[0:3])\n",
    "print(tupp[-1:-4:-1])\n",
    "print(tupp[2:6])\n"
   ]
  },
  {
   "cell_type": "code",
   "execution_count": 2,
   "id": "355f80b1",
   "metadata": {},
   "outputs": [
    {
     "name": "stdout",
     "output_type": "stream",
     "text": [
      "(1, 2, 4)\n",
      "(4, 5, 6)\n",
      "(7, 8, 9)\n",
      "4\n"
     ]
    }
   ],
   "source": [
    "## assignment-4\n",
    "tpl =((1,2,4),(4,5,6),(7,8,9))\n",
    "for i in tpl:\n",
    "    print(i)\n",
    "print(tpl[0][2])\n"
   ]
  },
  {
   "cell_type": "code",
   "execution_count": 3,
   "id": "355f80b1",
   "metadata": {},
   "outputs": [
    {
     "name": "stdout",
     "output_type": "stream",
     "text": [
      "(1, 2, 3, 4, 5, 6)\n"
     ]
    }
   ],
   "source": [
    "## assignment-5\n",
    "tpl1=(1,2,3)\n",
    "tpl2 = (4,5,6)\n",
    "result = tpl1+tpl2\n",
    "print(result)           "
   ]
  },
  {
   "cell_type": "code",
   "execution_count": 10,
   "id": "355f80b1",
   "metadata": {},
   "outputs": [
    {
     "name": "stdout",
     "output_type": "stream",
     "text": [
      "1  :  2\n",
      "2  :  1\n",
      "3  :  3\n",
      "1  :  2\n",
      "3  :  3\n",
      "4  :  1\n",
      "5  :  2\n",
      "5  :  2\n",
      "6  :  1\n",
      "7  :  1\n",
      "8  :  2\n",
      "92  :  1\n",
      "3  :  3\n",
      "8  :  2\n",
      "9  :  1\n"
     ]
    }
   ],
   "source": [
    "## assignment-6\n",
    "tpl=(1,2,3,1,3,4,5,5,6,7,8,92,3,8,9)\n",
    "for i in tpl:\n",
    "    print(i,\" : \",(tpl.count(i)))"
   ]
  },
  {
   "cell_type": "code",
   "execution_count": 13,
   "id": "355f80b1",
   "metadata": {},
   "outputs": [
    {
     "name": "stdout",
     "output_type": "stream",
     "text": [
      "1\n",
      "2\n",
      "3\n",
      "4\n",
      "5\n"
     ]
    }
   ],
   "source": [
    "## assignment-7\n",
    "tpl =(1,2,3,4,5)\n",
    "a,b,c,d,e=tpl\n",
    "print(a)\n",
    "print(b)\n",
    "print(c)\n",
    "print(d)\n",
    "print(e)\n",
    "\n"
   ]
  },
  {
   "cell_type": "code",
   "execution_count": 12,
   "id": "355f80b1",
   "metadata": {},
   "outputs": [
    {
     "name": "stdout",
     "output_type": "stream",
     "text": [
      "(1, 2, 3, 4, 5)\n"
     ]
    }
   ],
   "source": [
    "## assignment-8\n",
    "lst = [1,2,3,4,5]\n",
    "print(tuple(lst))"
   ]
  },
  {
   "cell_type": "code",
   "execution_count": 14,
   "id": "355f80b1",
   "metadata": {},
   "outputs": [
    {
     "name": "stdout",
     "output_type": "stream",
     "text": [
      "((1, 2, 3), (4, 5, 6), (7, 8, 9))\n"
     ]
    }
   ],
   "source": [
    "## assignment-9\n",
    "tpl = (\n",
    "    (1,2,3),\n",
    "    (4,5,6,),\n",
    "    (7,8,9)\n",
    ")\n",
    "print(tpl)\n"
   ]
  },
  {
   "cell_type": "code",
   "execution_count": 15,
   "id": "355f80b1",
   "metadata": {},
   "outputs": [
    {
     "name": "stdout",
     "output_type": "stream",
     "text": [
      "(1, 2, 3, 4, 5, 6)\n"
     ]
    }
   ],
   "source": [
    "## assignment-10\n",
    "tpl = (1,2,3,4,5)\n",
    "converted_tpl = list(tpl)\n",
    "converted_tpl.append(6)\n",
    "print(tuple(converted_tpl))\n"
   ]
  },
  {
   "cell_type": "code",
   "execution_count": 21,
   "id": "355f80b1",
   "metadata": {},
   "outputs": [
    {
     "name": "stdout",
     "output_type": "stream",
     "text": [
      "divyanshi\n",
      "<class 'str'>\n"
     ]
    }
   ],
   "source": [
    "## assignment-11\n",
    "tpl = ('d','i','v','y','a','n','s','h','i')\n",
    "for i in tpl:\n",
    "    print(i,end=\"\")\n",
    "print()\n",
    "print(type(i))"
   ]
  },
  {
   "cell_type": "code",
   "execution_count": 33,
   "id": "355f80b1",
   "metadata": {},
   "outputs": [
    {
     "name": "stdout",
     "output_type": "stream",
     "text": [
      "{(1,): 1, (2,): 2, (3,): 3, (4,): 4}\n",
      "<class 'tuple'>\n",
      "<class 'tuple'>\n",
      "<class 'tuple'>\n",
      "<class 'tuple'>\n"
     ]
    }
   ],
   "source": [
    "## assignment-12\n",
    "dict = {(a,):1,\n",
    "(b,):2,\n",
    "(c,):3,\n",
    "(d,):4\n",
    "}\n",
    "print(dict)\n",
    "\n",
    "for key in dict.keys():\n",
    "    print(type(key))\n"
   ]
  },
  {
   "cell_type": "code",
   "execution_count": 37,
   "id": "355f80b1",
   "metadata": {},
   "outputs": [
    {
     "name": "stdout",
     "output_type": "stream",
     "text": [
      "(1, 2, 3)\n",
      "(4, 5, 6)\n",
      "(7, 8, 9)\n",
      "1 2 3 4 5 6 7 8 9 "
     ]
    }
   ],
   "source": [
    "## assignment-13\n",
    "nested_tpl = (\n",
    "    (1,2,3),\n",
    "    (4,5,6),\n",
    "    (7,8,9)\n",
    ")\n",
    "\n",
    "for i in nested_tpl:\n",
    "    print(i)\n",
    "\n",
    "items = (item for sub_tpl in nested_tpl for item in sub_tpl)\n",
    "for j in items:\n",
    "    print(j, end=\" \")"
   ]
  },
  {
   "cell_type": "code",
   "execution_count": 39,
   "id": "355f80b1",
   "metadata": {},
   "outputs": [
    {
     "name": "stdout",
     "output_type": "stream",
     "text": [
      "{1, 2, 3, 4, 5, 6, 7}\n"
     ]
    }
   ],
   "source": [
    "## assignment-14\n",
    "dup_tpl = (1,2,3,2,3,4,5,6,6,6,7)\n",
    "result=set(dup_tpl)\n",
    "print(result)"
   ]
  },
  {
   "cell_type": "code",
   "execution_count": 42,
   "id": "355f80b1",
   "metadata": {},
   "outputs": [
    {
     "name": "stdout",
     "output_type": "stream",
     "text": [
      "7\n",
      "1\n",
      "28\n"
     ]
    }
   ],
   "source": [
    "## assignment-15\n",
    "def func(tpl):\n",
    "    sum=0\n",
    "    for i in tpl:\n",
    "        sum= sum+i\n",
    "    return max(tpl), min(tpl),sum\n",
    "\n",
    "\n",
    "tpl=(1,2,3,4,5,6,7)\n",
    "max,min,sum = func(tpl)\n",
    "print(max)\n",
    "print(min)\n",
    "print(sum)\n",
    "\n",
    "\n"
   ]
  },
  {
   "cell_type": "code",
   "execution_count": null,
   "id": "4ac46bba",
   "metadata": {},
   "outputs": [],
   "source": []
  }
 ],
 "metadata": {
  "kernelspec": {
   "display_name": "Python 3.12.0 64-bit ('venv')",
   "language": "python",
   "name": "python3"
  },
  "language_info": {
   "codemirror_mode": {
    "name": "ipython",
    "version": 3
   },
   "file_extension": ".py",
   "mimetype": "text/x-python",
   "name": "python",
   "nbconvert_exporter": "python",
   "pygments_lexer": "ipython3",
   "version": "3.12.0"
  },
  "vscode": {
   "interpreter": {
    "hash": "e9ef6f2fe8b6d46b027c67aea2efd391beee35eda31a4f327b2dd7a122cffd51"
   }
  }
 },
 "nbformat": 4,
 "nbformat_minor": 5
}
