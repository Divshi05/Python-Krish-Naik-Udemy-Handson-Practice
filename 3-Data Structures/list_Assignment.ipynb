{
 "cells": [
  {
   "cell_type": "markdown",
   "metadata": {},
   "source": [
    "# Module 3: Data Structures Assignments\n",
    "## Lesson 3.1: Lists\n",
    "### Assignment 1: Creating and Accessing Lists\n",
    "\n",
    "Create a list of the first 20 positive integers. Print the list.\n",
    "\n",
    "### Assignment 2: Accessing List Elements\n",
    "\n",
    "Print the first, middle, and last elements of the list created in Assignment 1.\n",
    "\n",
    "### Assignment 3: List Slicing\n",
    "\n",
    "Print the first five elements, the last five elements, and the elements from index 5 to 15 of the list created in Assignment 1.\n",
    "\n",
    "### Assignment 4: List Comprehensions\n",
    "\n",
    "Create a new list containing the squares of the first 10 positive integers using a list comprehension. Print the new list.\n",
    "\n",
    "### Assignment 5: Filtering Lists\n",
    "\n",
    "Create a new list containing only the even numbers from the list created in Assignment 1 using a list comprehension. Print the new list.\n",
    "\n",
    "### Assignment 6: List Methods\n",
    "\n",
    "Create a list of random numbers and sort it in ascending and descending order. Remove the duplicates from the list and print the modified list.\n",
    "\n",
    "### Assignment 7: Nested Lists\n",
    "\n",
    "Create a nested list representing a 3x3 matrix and print the matrix. Access and print the element at the second row and third column.\n",
    "\n",
    "### Assignment 8: List of Dictionaries\n",
    "\n",
    "Create a list of dictionaries where each dictionary represents a student with keys 'name' and 'score'. Sort the list of dictionaries by the 'score' in descending order and print the sorted list.\n",
    "\n",
    "### Assignment 9: Matrix Transposition\n",
    "\n",
    "Write a function that takes a 3x3 matrix (nested list) as input and returns its transpose. Print the original and transposed matrices.\n",
    "\n",
    "### Assignment 10: Flattening a Nested List\n",
    "\n",
    "Write a function that takes a nested list and flattens it into a single list. Print the original and flattened lists.\n",
    "\n",
    "### Assignment 11: List Manipulation\n",
    "\n",
    "Create a list of the first 10 positive integers. Remove the elements at indices 2, 4, and 6, and insert the element '99' at index 5. Print the modified list.\n",
    "\n",
    "### Assignment 12: List Zipping\n",
    "\n",
    "Create two lists of the same length. Use the `zip` function to combine these lists into a list of tuples and print the result.\n",
    "\n",
    "### Assignment 13: List Reversal\n",
    "\n",
    "Write a function that takes a list and returns a new list with the elements in reverse order. Print the original and reversed lists.\n",
    "\n",
    "### Assignment 14: List Rotation\n",
    "\n",
    "Write a function that rotates a list by n positions. Print the original and rotated lists.\n",
    "\n",
    "### Assignment 15: List Intersection\n",
    "\n",
    "Write a function that takes two lists and returns a new list containing only the elements that are present in both lists. Print the intersected list."
   ]
  },
  {
   "cell_type": "code",
   "execution_count": 1,
   "metadata": {},
   "outputs": [
    {
     "name": "stdout",
     "output_type": "stream",
     "text": [
      "[0, 1, 2, 3, 4, 5, 6, 7, 8, 9, 10, 11, 12, 13, 14, 15, 16, 17, 18, 19, 20]\n"
     ]
    }
   ],
   "source": [
    "## assignment-1\n",
    "lst=[]\n",
    "for i in range(21):\n",
    "    lst.append(i)\n",
    "print(lst)"
   ]
  },
  {
   "cell_type": "code",
   "execution_count": 2,
   "id": "233192b7",
   "metadata": {},
   "outputs": [
    {
     "name": "stdout",
     "output_type": "stream",
     "text": [
      "0\n",
      "20\n",
      "10\n"
     ]
    }
   ],
   "source": [
    "## assignment-2\n",
    "print(lst[0])\n",
    "print(lst[-1])\n",
    "length = len(lst)\n",
    "mid = int(length/2)\n",
    "print(lst[mid])"
   ]
  },
  {
   "cell_type": "code",
   "execution_count": 3,
   "id": "1e7a7e3a",
   "metadata": {},
   "outputs": [
    {
     "name": "stdout",
     "output_type": "stream",
     "text": [
      "[0, 1, 2, 3, 4]\n",
      "[20, 19, 18, 17, 16]\n",
      "[5, 6, 7, 8, 9, 10, 11, 12, 13, 14]\n"
     ]
    }
   ],
   "source": [
    "## assignment-3\n",
    "print(lst[0:5])\n",
    "print(lst[-1:-6:-1])\n",
    "print(lst[5:15])"
   ]
  },
  {
   "cell_type": "code",
   "execution_count": 4,
   "id": "2626ad21",
   "metadata": {},
   "outputs": [
    {
     "name": "stdout",
     "output_type": "stream",
     "text": [
      "[0, 1, 4, 9, 16, 25, 36, 49, 64, 81, 100]\n"
     ]
    }
   ],
   "source": [
    "## assignment-4\n",
    "lst = [num**2 for num in range(11)]\n",
    "print(lst)"
   ]
  },
  {
   "cell_type": "code",
   "execution_count": 6,
   "id": "4e3e7085",
   "metadata": {},
   "outputs": [
    {
     "name": "stdout",
     "output_type": "stream",
     "text": [
      "[0, 1, 2, 3, 4, 5, 6, 7, 8, 9, 10, 11, 12, 13, 14, 15, 16, 17, 18, 19, 20]\n"
     ]
    }
   ],
   "source": [
    "## assignment-1\n",
    "lst=[]\n",
    "for i in range(21):\n",
    "    lst.append(i)\n",
    "print(lst)"
   ]
  },
  {
   "cell_type": "code",
   "execution_count": 7,
   "id": "6d33f36c",
   "metadata": {},
   "outputs": [
    {
     "name": "stdout",
     "output_type": "stream",
     "text": [
      "[0, 2, 4, 6, 8, 10, 12, 14, 16, 18, 20]\n"
     ]
    }
   ],
   "source": [
    "## assignment-5\n",
    "even_lst = [num for num in lst if num%2==0]\n",
    "print(even_lst)"
   ]
  },
  {
   "cell_type": "code",
   "execution_count": 1,
   "id": "f3dd6c0d",
   "metadata": {},
   "outputs": [
    {
     "name": "stdout",
     "output_type": "stream",
     "text": [
      "[1, 1, 6, 10, 27, 29, 29, 56, 89]\n",
      "[89, 56, 29, 29, 27, 10, 6, 1, 1]\n",
      "[89, 56, 29, 29, 27, 10, 6, 1, 1]\n",
      "9\n"
     ]
    }
   ],
   "source": [
    "## assignment-6\n",
    "random_list = [1, 6, 89, 29, 1, 10, 27, 29, 56]\n",
    "random_list.sort()\n",
    "print(random_list)\n",
    "random_list.reverse()\n",
    "print(random_list)\n",
    "set(random_list) \n",
    "print(list(random_list))\n",
    "print(len(random_list))\n",
    "## ISSUES -->\n",
    "## set(random_list) --> The set(random_list) creates a set, removing duplicates, but it does not modify random_list.\n",
    "# Since you don’t assign the result to a variable, this operation has no effect on the next line.\n",
    "\n",
    "## print(list(random_list)) --> This line attempts to convert random_list back to a list and print it.\n",
    "#  However, random_list hasn't been changed by the set operation."
   ]
  },
  {
   "cell_type": "code",
   "execution_count": 9,
   "id": "47bb353d",
   "metadata": {},
   "outputs": [
    {
     "name": "stdout",
     "output_type": "stream",
     "text": [
      "[1, 1, 6, 10, 27, 29, 29, 56, 89]\n",
      "[89, 56, 29, 29, 27, 10, 6, 1, 1]\n",
      "[1, 6, 10, 56, 89, 27, 29]\n"
     ]
    }
   ],
   "source": [
    "## assignment-6\n",
    "random_list = [1, 6, 89, 29, 1, 10, 27, 29, 56]\n",
    "random_list.sort()\n",
    "print(random_list)\n",
    "random_list.reverse()\n",
    "print(random_list)\n",
    "non_duplicate=set(random_list)\n",
    "print(list(non_duplicate))\n",
    "\n"
   ]
  },
  {
   "cell_type": "code",
   "execution_count": 12,
   "id": "43c7b868",
   "metadata": {},
   "outputs": [
    {
     "name": "stdout",
     "output_type": "stream",
     "text": [
      "[1, 0, 0]\n",
      "[0, 1, 0]\n",
      "[0, 0, 1]\n",
      "0\n"
     ]
    }
   ],
   "source": [
    "## assignment-7\n",
    "list_matrix = [[1,0,0],[0,1,0],[0,0,1]]\n",
    "for i in list_matrix:\n",
    "    print(i)\n",
    "print(list_matrix[1][2])"
   ]
  },
  {
   "cell_type": "code",
   "execution_count": 16,
   "id": "06c07ca3",
   "metadata": {},
   "outputs": [
    {
     "name": "stdout",
     "output_type": "stream",
     "text": [
      "[{'name': 'Manan', 'score': 100}, {'name': 'Divyanshi', 'score': 99}, {'name': 'Riya', 'score': 39}, {'name': 'XYZ', 'score': 9}]\n"
     ]
    }
   ],
   "source": [
    "## assignment-8\n",
    "list=[\n",
    "    {'name':\"Divyanshi\", 'score':99},\n",
    "    {'name':\"Manan\", 'score':100},\n",
    "    {'name':\"Riya\", 'score':39},\n",
    "    {'name':\"XYZ\", 'score':9},\n",
    "]\n",
    "\n",
    "sorted_list = sorted(list,key=lambda x:x['score'],reverse=True)\n",
    "print(sorted_list)"
   ]
  },
  {
   "cell_type": "code",
   "execution_count": null,
   "id": "b40f4053",
   "metadata": {},
   "outputs": [],
   "source": [
    "## assignment-9\n",
    "matrix_list= [\n",
    "    [1,2,3],\n",
    "    [4,5,6],\n",
    "    [7,8,9]\n",
    "]"
   ]
  },
  {
   "cell_type": "code",
   "execution_count": 4,
   "id": "a42b7590",
   "metadata": {},
   "outputs": [
    {
     "name": "stdout",
     "output_type": "stream",
     "text": [
      "[1, 2, 3, 4, 5, 6, 7, 8, 10]\n"
     ]
    }
   ],
   "source": [
    "## assignment-10\n",
    "def flatened_list(nested_list):\n",
    "       lst=[item for sublist in nested_list for item in sublist]\n",
    "       return lst\n",
    "nested_list=[\n",
    "    [1,2,3],[4,5,6],[7,8,10]\n",
    "]\n",
    "\n",
    "\n",
    "print(flatened_list(nested_list))"
   ]
  },
  {
   "cell_type": "code",
   "execution_count": 13,
   "id": "8e953404",
   "metadata": {},
   "outputs": [
    {
     "name": "stdout",
     "output_type": "stream",
     "text": [
      "[1, 2, 4, 5, 7, 99, 10]\n"
     ]
    }
   ],
   "source": [
    "## assignment-11\n",
    "lst = list(range(1,11))\n",
    "del lst[2]\n",
    "del lst[4]\n",
    "del lst[6]\n",
    "lst[5]=99\n",
    "print(lst)"
   ]
  },
  {
   "cell_type": "code",
   "execution_count": 19,
   "id": "f09d138c",
   "metadata": {},
   "outputs": [
    {
     "name": "stdout",
     "output_type": "stream",
     "text": [
      "[(1, 11), (2, 12), (3, 13), (4, 14), (5, 15), (6, 16), (7, 17), (8, 18), (9, 19), (10, 20)]\n"
     ]
    }
   ],
   "source": [
    "## assignent-12\n",
    "lst1= list(range(1,11))\n",
    "lst2= list(range(11,21))\n",
    "final_list=list(zip(lst1,lst2))\n",
    "print(final_list)"
   ]
  },
  {
   "cell_type": "code",
   "execution_count": 20,
   "id": "760c919d",
   "metadata": {},
   "outputs": [
    {
     "name": "stdout",
     "output_type": "stream",
     "text": [
      "[10, 9, 8, 8, 5, 4, 2, 1]\n"
     ]
    }
   ],
   "source": [
    "## assignment-13\n",
    "def reverse_list(lst):\n",
    "    lst.reverse()\n",
    "    return lst\n",
    "\n",
    "lst=[1,2,4,5,8,8,9,10]\n",
    "print(reverse_list(lst))"
   ]
  },
  {
   "cell_type": "code",
   "execution_count": 21,
   "id": "ab3cb4d4",
   "metadata": {},
   "outputs": [
    {
     "name": "stdout",
     "output_type": "stream",
     "text": [
      "Original list: [1, 2, 3, 4, 5]\n",
      "Rotated list: [4, 5, 1, 2, 3]\n"
     ]
    }
   ],
   "source": [
    "## assignment-14\n",
    "def position_rotate(lst,n):\n",
    "    return lst[n:] + lst[:n]\n",
    "\n",
    "lst=[1,2,3,4,5]\n",
    "print(\"Original list:\", lst )\n",
    "print(\"Rotated list:\" , position_rotate(lst,3))"
   ]
  },
  {
   "cell_type": "code",
   "execution_count": 22,
   "id": "643c46e3",
   "metadata": {},
   "outputs": [
    {
     "name": "stdout",
     "output_type": "stream",
     "text": [
      "[3, 4, 5]\n"
     ]
    }
   ],
   "source": [
    "## assigment-15\n",
    "def intersected_list(lst1, lst2):\n",
    "    common_list = [i for i in lst1 for j in lst2 if i==j]\n",
    "    return common_list\n",
    "\n",
    "lst1 =[1,2,3,4,5]\n",
    "lst2 =[3,4,5,6,7]\n",
    "print(intersected_list(lst1,lst2))\n",
    "    "
   ]
  },
  {
   "cell_type": "code",
   "execution_count": null,
   "id": "d7c2c846",
   "metadata": {},
   "outputs": [],
   "source": []
  }
 ],
 "metadata": {
  "kernelspec": {
   "display_name": "Python 3.12.0 64-bit ('venv')",
   "language": "python",
   "name": "python3"
  },
  "language_info": {
   "codemirror_mode": {
    "name": "ipython",
    "version": 3
   },
   "file_extension": ".py",
   "mimetype": "text/x-python",
   "name": "python",
   "nbconvert_exporter": "python",
   "pygments_lexer": "ipython3",
   "version": "3.12.0"
  },
  "vscode": {
   "interpreter": {
    "hash": "e9ef6f2fe8b6d46b027c67aea2efd391beee35eda31a4f327b2dd7a122cffd51"
   }
  }
 },
 "nbformat": 4,
 "nbformat_minor": 5
}
